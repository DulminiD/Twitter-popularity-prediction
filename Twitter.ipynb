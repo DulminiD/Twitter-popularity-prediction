{
  "nbformat": 4,
  "nbformat_minor": 0,
  "metadata": {
    "colab": {
      "provenance": []
    },
    "kernelspec": {
      "name": "python3",
      "display_name": "Python 3"
    },
    "language_info": {
      "name": "python"
    }
  },
  "cells": [
    {
      "cell_type": "code",
      "execution_count": null,
      "metadata": {
        "id": "Mt6HgITuU55U"
      },
      "outputs": [],
      "source": [
        "import pandas as pd\n",
        "import networkx as nx\n",
        "import matplotlib.pyplot as plt\n",
        "data = pd.read_csv('edges_ex.txt', sep=\" \", header=None, names=['source', 'target'])"
      ]
    },
    {
      "cell_type": "code",
      "source": [
        "g = nx.from_pandas_edgelist(data, create_using = nx.DiGraph())\n",
        "g = g.reverse()\n",
        "print(nx.info(g))\n",
        "nx.draw(g, with_labels = False)\n",
        "plt.show"
      ],
      "metadata": {
        "id": "GoR1q39dVGBY"
      },
      "execution_count": null,
      "outputs": []
    },
    {
      "cell_type": "code",
      "source": [
        "def triad():\n",
        "    triads = []\n",
        "    for u in g:\n",
        "        u_followers = g.predecessors(u)\n",
        "        \n",
        "        u_following = g.successors(u)\n",
        "        \n",
        "        \n",
        "        for w in u_followers:\n",
        "            w_following = g.successors(w)\n",
        "            \n",
        "            for v in w_following:\n",
        "                l = [x for x in g.successors(u)]\n",
        "                if v in l:\n",
        "                    #print(v)\n",
        "                    tup = (u, v, w)\n",
        "                    triads.append(tup)\n",
        "    print(triads)\n",
        "    print(len(triads))\n",
        "    return triads\n",
        "                 \n",
        "                    "
      ],
      "metadata": {
        "id": "lhCawVE8VRjx"
      },
      "execution_count": null,
      "outputs": []
    },
    {
      "cell_type": "code",
      "source": [
        "t = triad()"
      ],
      "metadata": {
        "id": "b4_Sk51FVY8x"
      },
      "execution_count": null,
      "outputs": []
    },
    {
      "cell_type": "code",
      "source": [
        "def check_ids(t):\n",
        "  for idx,i in enumerate(t):\n",
        "    idx = idx+1\n",
        "    \n",
        "    u = i[0]\n",
        "    v = i[1]\n",
        "    w = i[2]\n",
        "\n",
        "    try:\n",
        "      u_user = client.get_user(username = u, user_fields='created_at')\n",
        "      v_user = client.get_user(username = v, user_fields='created_at')\n",
        "      w_user = client.get_user(username = w, user_fields='created_at')\n",
        "\n",
        "    except Exception as e:\n",
        "      print(e)\n",
        "      print('User not available')\n",
        "      t.remove(idx)\n",
        "  return t\n",
        "t1 = check_ids(t)"
      ],
      "metadata": {
        "id": "sTP1DdsiVwQI"
      },
      "execution_count": null,
      "outputs": []
    },
    {
      "cell_type": "code",
      "source": [
        "def timed_triads(t):\n",
        "  for idx, i in enumerate(t):\n",
        "\n",
        "    u = i[0]\n",
        "    v = i[1]\n",
        "    w = i[2]\n",
        "\n",
        "    w_id = twitter_id_lookup(w)\n",
        "    w_followers = client.get_users_following(id = int(w_id))\n",
        "\n",
        "    u_id = 0\n",
        "    v_id = 0\n",
        "\n",
        "    for idy, j in enumerate(w_followers):\n",
        "      if (u == j.id):\n",
        "        u_id = idy\n",
        "      if (v == j.id):\n",
        "        v_id = idy\n",
        "  \n",
        "    if u_id > v_id:\n",
        "      t.remove(triad_count)\n",
        "\n",
        "  return t \n",
        "\n",
        "t2 = timed_triads(t1)"
      ],
      "metadata": {
        "id": "xDQe2YowV1PY"
      },
      "execution_count": null,
      "outputs": []
    },
    {
      "cell_type": "code",
      "source": [
        "def non_rec(v,w):\n",
        "    w_followers = g.predecessors(w)\n",
        "    \n",
        "    if v in [x for x in w_followers]:\n",
        "        return 0\n",
        "    return 1\n",
        "\n",
        "def sim(u,v):\n",
        "    u_following = g.successors(u)\n",
        "    v_following = g.successors(v)\n",
        "    \n",
        "    u_following = set([x for x in u_following])\n",
        "    v_following = set([x for x in v_following])\n",
        "    \n",
        "    intersection = len(u_following.intersection(v_following))\n",
        "    union = len(u_following.union(v_following))\n",
        "    \n",
        "    similarity = intersection / union\n",
        "    \n",
        "    \n",
        "    \n",
        "    return similarity "
      ],
      "metadata": {
        "id": "5BdIKO-zVcj6"
      },
      "execution_count": null,
      "outputs": []
    },
    {
      "cell_type": "code",
      "source": [
        "def probability_copy(triad):\n",
        "    non_rec_value = non_rec(triad[1], triad[2])\n",
        "        \n",
        "    sim1_val = sim(triad[0], triad[1])\n",
        "    sim2_val = sim(triad[2], triad[0])\n",
        "        \n",
        "    prob = non_rec_value * sim1_val * sim2_val #implicit structure and time ordered\n",
        "    return prob"
      ],
      "metadata": {
        "id": "m2neWFvUn_Mr"
      },
      "execution_count": null,
      "outputs": []
    },
    {
      "cell_type": "code",
      "source": [
        "def sum_prob(triad_list):\n",
        "    ans_list = [] \n",
        "    for e in triad_list:\n",
        "        ans = 0\n",
        "        for f in triad_list:\n",
        "            if e[1] == f[1] and e[2] == f[2]:\n",
        "                ans += probability_copy(f)\n",
        "        ans_list.append(ans)\n",
        "    return ans_list      "
      ],
      "metadata": {
        "id": "U88vfyDAn_4n"
      },
      "execution_count": null,
      "outputs": []
    },
    {
      "cell_type": "code",
      "source": [
        "ans_list = sum_prob(t)\n",
        "def prob_list(t, ans_list):\n",
        "    p_list = []\n",
        "    for i in range(len(t)):\n",
        "        p = 0\n",
        "        if ans_list[i] == 0:\n",
        "            p = 0\n",
        "        else:\n",
        "            p = probability_copy(t[i]) / ans_list[i]\n",
        "        p_list.append(p)\n",
        "    return p_list\n",
        "    "
      ],
      "metadata": {
        "id": "UG7oMb8CoFRL"
      },
      "execution_count": null,
      "outputs": []
    },
    {
      "cell_type": "code",
      "source": [
        "pro_list = prob_list(t, ans_list)"
      ],
      "metadata": {
        "id": "tT93jF-yoJM_"
      },
      "execution_count": null,
      "outputs": []
    },
    {
      "cell_type": "code",
      "source": [
        "def cf_score(u, pro_list):\n",
        "    sum = 0\n",
        "    for i in range(len(t)):\n",
        "        if t[i][0] == u:\n",
        "            sum += pro_list[i]\n",
        "    return sum"
      ],
      "metadata": {
        "id": "ESS5aOXqCDKT"
      },
      "execution_count": null,
      "outputs": []
    },
    {
      "cell_type": "code",
      "source": [
        "cf_score(2, pro_list)"
      ],
      "metadata": {
        "id": "vThADcxoCLID"
      },
      "execution_count": null,
      "outputs": []
    },
    {
      "cell_type": "code",
      "source": [
        "def imitation_ratio(u):\n",
        "    cf = cf_score(u, pro_list)\n",
        "    followers_len = len([x for x in g.predecessors(u)])\n",
        "    \n",
        "    friends_len = len([x for x in g.successors(u)])\n",
        "    \n",
        "    imitation = cf / (followers_len * friends_len)\n",
        "    \n",
        "    return imitation\n",
        "\n"
      ],
      "metadata": {
        "id": "hF6T1PY9CL1Q"
      },
      "execution_count": null,
      "outputs": []
    },
    {
      "cell_type": "code",
      "source": [
        "imitation_ratio(2)"
      ],
      "metadata": {
        "id": "lJJy54k8CTfC"
      },
      "execution_count": null,
      "outputs": []
    },
    {
      "cell_type": "code",
      "source": [
        "def early_adopter_score(u, v):\n",
        "    u_followers_len = len([x for x in g.predecessors(u)])\n",
        "    v_followers_len = len([y for y in g.predecessors(v)])\n",
        "    #print(u_followers_len, v_followers_len)\n",
        "    early_adopter = imitation_ratio(2) * (u_followers_len / v_followers_len)\n",
        "    return early_adopter"
      ],
      "metadata": {
        "id": "gQdFHZroCUXc"
      },
      "execution_count": null,
      "outputs": []
    },
    {
      "cell_type": "code",
      "source": [
        "early_adopter_score(2,1)"
      ],
      "metadata": {
        "id": "HHWWH_DLCXWs"
      },
      "execution_count": null,
      "outputs": []
    },
    {
      "cell_type": "code",
      "source": [
        "def future_popularity_score(v):\n",
        "    sum = 0\n",
        "    for u in g.predecessors(v):\n",
        "        sum += early_adopter_score(u,v)\n",
        "    return sum\n",
        "        "
      ],
      "metadata": {
        "id": "P71EYkVkCZ55"
      },
      "execution_count": null,
      "outputs": []
    },
    {
      "cell_type": "code",
      "source": [
        "future_popularity_score(5)"
      ],
      "metadata": {
        "id": "gJha6K1MCdSq"
      },
      "execution_count": null,
      "outputs": []
    },
    {
      "cell_type": "code",
      "source": [
        "def cf_alll():\n",
        "    cf = []\n",
        "    P = []\n",
        "    cf = ['0'] * len(g)\n",
        "    for w,v in g.edges:\n",
        "        v_followers = set([x for x in g.predecessors(v)])\n",
        "        w_friends = set([y for y in g.successors(w)])\n",
        "        U = v_followers.intersection(w_friends)\n",
        "        U = list(U)\n",
        "        \n",
        "        \n",
        "        s = 0\n",
        "        \n",
        "        for u in U:\n",
        "            p = probability_copy((u,v,w))\n",
        "            s += p\n",
        "            P.append(p)\n",
        "        \n",
        "        for i in range(len(U)):\n",
        "            if s != 0:\n",
        "                cf[i] = cf_score(U[i])\n",
        "            else:\n",
        "                cf[i] = 0\n",
        "    return cf  "
      ],
      "metadata": {
        "id": "sK9ewM4gNdAe"
      },
      "execution_count": null,
      "outputs": []
    },
    {
      "cell_type": "code",
      "source": [
        "cf_alll()"
      ],
      "metadata": {
        "id": "8e1I7zCVNeK9"
      },
      "execution_count": null,
      "outputs": []
    },
    {
      "cell_type": "code",
      "source": [
        "def cf_all():\n",
        "    cf = []\n",
        "    P = []\n",
        "    cf = ['0'] * len(g)\n",
        "    for w,v in g.edges:\n",
        "        v_followers = set([x for x in g.predecessors(v)])\n",
        "        w_friends = set([y for y in g.successors(w)])\n",
        "        U = v_followers.intersection(w_friends)\n",
        "        U = list(U)\n",
        "        \n",
        "        \n",
        "        s = 0\n",
        "        \n",
        "        for u in U:\n",
        "            p = probability_copy((u,v,w))\n",
        "            s += p\n",
        "            P.append(p)\n",
        "        \n",
        "        for i in range(len(U)):\n",
        "            if s != 0:\n",
        "                print(P[i], s)\n",
        "                cf[i] = cf_score(U[i]) + (P[i]/s)\n",
        "            else:\n",
        "                cf[i] = 0\n",
        "    return cf"
      ],
      "metadata": {
        "id": "eZgOJG11Nkr9"
      },
      "execution_count": null,
      "outputs": []
    },
    {
      "cell_type": "code",
      "source": [
        "cf_all()"
      ],
      "metadata": {
        "id": "DVEz_kdmNpXf"
      },
      "execution_count": null,
      "outputs": []
    }
  ]
}